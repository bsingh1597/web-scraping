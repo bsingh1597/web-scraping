{
 "cells": [
  {
   "cell_type": "code",
   "execution_count": null,
   "id": "7155ab27-2f76-478e-8cd8-5220d75e0663",
   "metadata": {},
   "outputs": [],
   "source": [
    "from pandas.core.frame import DataFrame\n",
    "from selenium import webdriver\n",
    "from selenium.webdriver.common.by import By\n",
    "import pandas as pd\n",
    "import time\n",
    "import os"
   ]
  },
  {
   "cell_type": "markdown",
   "id": "7b0fdf66-289c-43ec-96fd-3f0172de29cf",
   "metadata": {},
   "source": [
    "# Importing Files"
   ]
  },
  {
   "cell_type": "code",
   "execution_count": 2,
   "id": "87e3f9d6-9b94-49e5-8628-ce32b6948e85",
   "metadata": {},
   "outputs": [
    {
     "ename": "FileNotFoundError",
     "evalue": "[Errno 2] No such file or directory: 'project_links.xlsx'",
     "output_type": "error",
     "traceback": [
      "\u001b[1;31m---------------------------------------------------------------------------\u001b[0m",
      "\u001b[1;31mFileNotFoundError\u001b[0m                         Traceback (most recent call last)",
      "Cell \u001b[1;32mIn[2], line 1\u001b[0m\n\u001b[1;32m----> 1\u001b[0m project_links_df \u001b[38;5;241m=\u001b[39m \u001b[43mpd\u001b[49m\u001b[38;5;241;43m.\u001b[39;49m\u001b[43mread_excel\u001b[49m\u001b[43m(\u001b[49m\u001b[38;5;124;43m'\u001b[39;49m\u001b[38;5;124;43mproject_links.xlsx\u001b[39;49m\u001b[38;5;124;43m'\u001b[39;49m\u001b[43m)\u001b[49m\n\u001b[0;32m      2\u001b[0m project_links_df\u001b[38;5;241m.\u001b[39mhead()\n",
      "File \u001b[1;32mc:\\Users\\bs83243\\Python\\Python312\\Lib\\site-packages\\pandas\\io\\excel\\_base.py:495\u001b[0m, in \u001b[0;36mread_excel\u001b[1;34m(io, sheet_name, header, names, index_col, usecols, dtype, engine, converters, true_values, false_values, skiprows, nrows, na_values, keep_default_na, na_filter, verbose, parse_dates, date_parser, date_format, thousands, decimal, comment, skipfooter, storage_options, dtype_backend, engine_kwargs)\u001b[0m\n\u001b[0;32m    493\u001b[0m \u001b[38;5;28;01mif\u001b[39;00m \u001b[38;5;129;01mnot\u001b[39;00m \u001b[38;5;28misinstance\u001b[39m(io, ExcelFile):\n\u001b[0;32m    494\u001b[0m     should_close \u001b[38;5;241m=\u001b[39m \u001b[38;5;28;01mTrue\u001b[39;00m\n\u001b[1;32m--> 495\u001b[0m     io \u001b[38;5;241m=\u001b[39m \u001b[43mExcelFile\u001b[49m\u001b[43m(\u001b[49m\n\u001b[0;32m    496\u001b[0m \u001b[43m        \u001b[49m\u001b[43mio\u001b[49m\u001b[43m,\u001b[49m\n\u001b[0;32m    497\u001b[0m \u001b[43m        \u001b[49m\u001b[43mstorage_options\u001b[49m\u001b[38;5;241;43m=\u001b[39;49m\u001b[43mstorage_options\u001b[49m\u001b[43m,\u001b[49m\n\u001b[0;32m    498\u001b[0m \u001b[43m        \u001b[49m\u001b[43mengine\u001b[49m\u001b[38;5;241;43m=\u001b[39;49m\u001b[43mengine\u001b[49m\u001b[43m,\u001b[49m\n\u001b[0;32m    499\u001b[0m \u001b[43m        \u001b[49m\u001b[43mengine_kwargs\u001b[49m\u001b[38;5;241;43m=\u001b[39;49m\u001b[43mengine_kwargs\u001b[49m\u001b[43m,\u001b[49m\n\u001b[0;32m    500\u001b[0m \u001b[43m    \u001b[49m\u001b[43m)\u001b[49m\n\u001b[0;32m    501\u001b[0m \u001b[38;5;28;01melif\u001b[39;00m engine \u001b[38;5;129;01mand\u001b[39;00m engine \u001b[38;5;241m!=\u001b[39m io\u001b[38;5;241m.\u001b[39mengine:\n\u001b[0;32m    502\u001b[0m     \u001b[38;5;28;01mraise\u001b[39;00m \u001b[38;5;167;01mValueError\u001b[39;00m(\n\u001b[0;32m    503\u001b[0m         \u001b[38;5;124m\"\u001b[39m\u001b[38;5;124mEngine should not be specified when passing \u001b[39m\u001b[38;5;124m\"\u001b[39m\n\u001b[0;32m    504\u001b[0m         \u001b[38;5;124m\"\u001b[39m\u001b[38;5;124man ExcelFile - ExcelFile already has the engine set\u001b[39m\u001b[38;5;124m\"\u001b[39m\n\u001b[0;32m    505\u001b[0m     )\n",
      "File \u001b[1;32mc:\\Users\\bs83243\\Python\\Python312\\Lib\\site-packages\\pandas\\io\\excel\\_base.py:1550\u001b[0m, in \u001b[0;36mExcelFile.__init__\u001b[1;34m(self, path_or_buffer, engine, storage_options, engine_kwargs)\u001b[0m\n\u001b[0;32m   1548\u001b[0m     ext \u001b[38;5;241m=\u001b[39m \u001b[38;5;124m\"\u001b[39m\u001b[38;5;124mxls\u001b[39m\u001b[38;5;124m\"\u001b[39m\n\u001b[0;32m   1549\u001b[0m \u001b[38;5;28;01melse\u001b[39;00m:\n\u001b[1;32m-> 1550\u001b[0m     ext \u001b[38;5;241m=\u001b[39m \u001b[43minspect_excel_format\u001b[49m\u001b[43m(\u001b[49m\n\u001b[0;32m   1551\u001b[0m \u001b[43m        \u001b[49m\u001b[43mcontent_or_path\u001b[49m\u001b[38;5;241;43m=\u001b[39;49m\u001b[43mpath_or_buffer\u001b[49m\u001b[43m,\u001b[49m\u001b[43m \u001b[49m\u001b[43mstorage_options\u001b[49m\u001b[38;5;241;43m=\u001b[39;49m\u001b[43mstorage_options\u001b[49m\n\u001b[0;32m   1552\u001b[0m \u001b[43m    \u001b[49m\u001b[43m)\u001b[49m\n\u001b[0;32m   1553\u001b[0m     \u001b[38;5;28;01mif\u001b[39;00m ext \u001b[38;5;129;01mis\u001b[39;00m \u001b[38;5;28;01mNone\u001b[39;00m:\n\u001b[0;32m   1554\u001b[0m         \u001b[38;5;28;01mraise\u001b[39;00m \u001b[38;5;167;01mValueError\u001b[39;00m(\n\u001b[0;32m   1555\u001b[0m             \u001b[38;5;124m\"\u001b[39m\u001b[38;5;124mExcel file format cannot be determined, you must specify \u001b[39m\u001b[38;5;124m\"\u001b[39m\n\u001b[0;32m   1556\u001b[0m             \u001b[38;5;124m\"\u001b[39m\u001b[38;5;124man engine manually.\u001b[39m\u001b[38;5;124m\"\u001b[39m\n\u001b[0;32m   1557\u001b[0m         )\n",
      "File \u001b[1;32mc:\\Users\\bs83243\\Python\\Python312\\Lib\\site-packages\\pandas\\io\\excel\\_base.py:1402\u001b[0m, in \u001b[0;36minspect_excel_format\u001b[1;34m(content_or_path, storage_options)\u001b[0m\n\u001b[0;32m   1399\u001b[0m \u001b[38;5;28;01mif\u001b[39;00m \u001b[38;5;28misinstance\u001b[39m(content_or_path, \u001b[38;5;28mbytes\u001b[39m):\n\u001b[0;32m   1400\u001b[0m     content_or_path \u001b[38;5;241m=\u001b[39m BytesIO(content_or_path)\n\u001b[1;32m-> 1402\u001b[0m \u001b[38;5;28;01mwith\u001b[39;00m \u001b[43mget_handle\u001b[49m\u001b[43m(\u001b[49m\n\u001b[0;32m   1403\u001b[0m \u001b[43m    \u001b[49m\u001b[43mcontent_or_path\u001b[49m\u001b[43m,\u001b[49m\u001b[43m \u001b[49m\u001b[38;5;124;43m\"\u001b[39;49m\u001b[38;5;124;43mrb\u001b[39;49m\u001b[38;5;124;43m\"\u001b[39;49m\u001b[43m,\u001b[49m\u001b[43m \u001b[49m\u001b[43mstorage_options\u001b[49m\u001b[38;5;241;43m=\u001b[39;49m\u001b[43mstorage_options\u001b[49m\u001b[43m,\u001b[49m\u001b[43m \u001b[49m\u001b[43mis_text\u001b[49m\u001b[38;5;241;43m=\u001b[39;49m\u001b[38;5;28;43;01mFalse\u001b[39;49;00m\n\u001b[0;32m   1404\u001b[0m \u001b[43m\u001b[49m\u001b[43m)\u001b[49m \u001b[38;5;28;01mas\u001b[39;00m handle:\n\u001b[0;32m   1405\u001b[0m     stream \u001b[38;5;241m=\u001b[39m handle\u001b[38;5;241m.\u001b[39mhandle\n\u001b[0;32m   1406\u001b[0m     stream\u001b[38;5;241m.\u001b[39mseek(\u001b[38;5;241m0\u001b[39m)\n",
      "File \u001b[1;32mc:\\Users\\bs83243\\Python\\Python312\\Lib\\site-packages\\pandas\\io\\common.py:882\u001b[0m, in \u001b[0;36mget_handle\u001b[1;34m(path_or_buf, mode, encoding, compression, memory_map, is_text, errors, storage_options)\u001b[0m\n\u001b[0;32m    873\u001b[0m         handle \u001b[38;5;241m=\u001b[39m \u001b[38;5;28mopen\u001b[39m(\n\u001b[0;32m    874\u001b[0m             handle,\n\u001b[0;32m    875\u001b[0m             ioargs\u001b[38;5;241m.\u001b[39mmode,\n\u001b[1;32m   (...)\u001b[0m\n\u001b[0;32m    878\u001b[0m             newline\u001b[38;5;241m=\u001b[39m\u001b[38;5;124m\"\u001b[39m\u001b[38;5;124m\"\u001b[39m,\n\u001b[0;32m    879\u001b[0m         )\n\u001b[0;32m    880\u001b[0m     \u001b[38;5;28;01melse\u001b[39;00m:\n\u001b[0;32m    881\u001b[0m         \u001b[38;5;66;03m# Binary mode\u001b[39;00m\n\u001b[1;32m--> 882\u001b[0m         handle \u001b[38;5;241m=\u001b[39m \u001b[38;5;28;43mopen\u001b[39;49m\u001b[43m(\u001b[49m\u001b[43mhandle\u001b[49m\u001b[43m,\u001b[49m\u001b[43m \u001b[49m\u001b[43mioargs\u001b[49m\u001b[38;5;241;43m.\u001b[39;49m\u001b[43mmode\u001b[49m\u001b[43m)\u001b[49m\n\u001b[0;32m    883\u001b[0m     handles\u001b[38;5;241m.\u001b[39mappend(handle)\n\u001b[0;32m    885\u001b[0m \u001b[38;5;66;03m# Convert BytesIO or file objects passed with an encoding\u001b[39;00m\n",
      "\u001b[1;31mFileNotFoundError\u001b[0m: [Errno 2] No such file or directory: 'project_links.xlsx'"
     ]
    }
   ],
   "source": [
    "project_links_df = pd.read_excel('project_links.xlsx')\n",
    "project_links_df.head()"
   ]
  },
  {
   "cell_type": "code",
   "execution_count": 3,
   "id": "6b5b59d0-af3d-44ce-bd9f-327a450ff137",
   "metadata": {},
   "outputs": [
    {
     "data": {
      "text/html": [
       "<div>\n",
       "<style scoped>\n",
       "    .dataframe tbody tr th:only-of-type {\n",
       "        vertical-align: middle;\n",
       "    }\n",
       "\n",
       "    .dataframe tbody tr th {\n",
       "        vertical-align: top;\n",
       "    }\n",
       "\n",
       "    .dataframe thead th {\n",
       "        text-align: right;\n",
       "    }\n",
       "</style>\n",
       "<table border=\"1\" class=\"dataframe\">\n",
       "  <thead>\n",
       "    <tr style=\"text-align: right;\">\n",
       "      <th></th>\n",
       "      <th>Project Link</th>\n",
       "      <th>Project Approval Date</th>\n",
       "      <th>Project Code</th>\n",
       "      <th>County</th>\n",
       "      <th>Project Name</th>\n",
       "      <th>Project Status</th>\n",
       "      <th>Open Action Items</th>\n",
       "      <th>Project Link Code</th>\n",
       "    </tr>\n",
       "  </thead>\n",
       "  <tbody>\n",
       "    <tr>\n",
       "      <th>0</th>\n",
       "      <td>https://data.archwaypartnership.uga.edu/projec...</td>\n",
       "      <td>NaN</td>\n",
       "      <td>H-217</td>\n",
       "      <td>Hart</td>\n",
       "      <td>Feasibility Study for Recreation Center at the...</td>\n",
       "      <td>Completed</td>\n",
       "      <td>NaN</td>\n",
       "      <td>3858</td>\n",
       "    </tr>\n",
       "    <tr>\n",
       "      <th>1</th>\n",
       "      <td>https://data.archwaypartnership.uga.edu/node/3705</td>\n",
       "      <td>NaN</td>\n",
       "      <td>H-184</td>\n",
       "      <td>Hart</td>\n",
       "      <td>Hart Botanical Garden Brochure</td>\n",
       "      <td>Completed</td>\n",
       "      <td>NaN</td>\n",
       "      <td>3705</td>\n",
       "    </tr>\n",
       "    <tr>\n",
       "      <th>2</th>\n",
       "      <td>https://data.archwaypartnership.uga.edu/projec...</td>\n",
       "      <td>NaN</td>\n",
       "      <td>H-232</td>\n",
       "      <td>Hart</td>\n",
       "      <td>Historic Downtown Hartwell Ambassador Project ...</td>\n",
       "      <td>Completed</td>\n",
       "      <td>NaN</td>\n",
       "      <td>3944</td>\n",
       "    </tr>\n",
       "    <tr>\n",
       "      <th>3</th>\n",
       "      <td>https://data.archwaypartnership.uga.edu/projec...</td>\n",
       "      <td>NaN</td>\n",
       "      <td>CA-73</td>\n",
       "      <td>Candler</td>\n",
       "      <td>Historical Marker Project</td>\n",
       "      <td>Completed</td>\n",
       "      <td>NaN</td>\n",
       "      <td>3661</td>\n",
       "    </tr>\n",
       "    <tr>\n",
       "      <th>4</th>\n",
       "      <td>https://data.archwaypartnership.uga.edu/projec...</td>\n",
       "      <td>NaN</td>\n",
       "      <td>HB-34</td>\n",
       "      <td>Habersham</td>\n",
       "      <td>\"Hidden Gems of Habersham\" Brochure Project</td>\n",
       "      <td>Cancelled</td>\n",
       "      <td>NaN</td>\n",
       "      <td>3231</td>\n",
       "    </tr>\n",
       "  </tbody>\n",
       "</table>\n",
       "</div>"
      ],
      "text/plain": [
       "                                        Project Link Project Approval Date  \\\n",
       "0  https://data.archwaypartnership.uga.edu/projec...                   NaN   \n",
       "1  https://data.archwaypartnership.uga.edu/node/3705                   NaN   \n",
       "2  https://data.archwaypartnership.uga.edu/projec...                   NaN   \n",
       "3  https://data.archwaypartnership.uga.edu/projec...                   NaN   \n",
       "4  https://data.archwaypartnership.uga.edu/projec...                   NaN   \n",
       "\n",
       "  Project Code     County                                       Project Name  \\\n",
       "0        H-217       Hart  Feasibility Study for Recreation Center at the...   \n",
       "1        H-184       Hart                     Hart Botanical Garden Brochure   \n",
       "2        H-232       Hart  Historic Downtown Hartwell Ambassador Project ...   \n",
       "3        CA-73    Candler                          Historical Marker Project   \n",
       "4        HB-34  Habersham        \"Hidden Gems of Habersham\" Brochure Project   \n",
       "\n",
       "  Project Status  Open Action Items Project Link Code  \n",
       "0      Completed                NaN              3858  \n",
       "1      Completed                NaN              3705  \n",
       "2      Completed                NaN              3944  \n",
       "3      Completed                NaN              3661  \n",
       "4      Cancelled                NaN              3231  "
      ]
     },
     "execution_count": 3,
     "metadata": {},
     "output_type": "execute_result"
    }
   ],
   "source": [
    "# creating a new column for the code in the project link\n",
    "\n",
    "project_links_df['Project Link Code'] = project_links_df['Project Link'].apply(lambda x: x.split(\"/\")[-1])\n",
    "project_links_df.head()"
   ]
  },
  {
   "cell_type": "markdown",
   "id": "ed3a6336-6d57-426d-9faf-9646a0d64e0a",
   "metadata": {},
   "source": [
    "### Function to rename files"
   ]
  },
  {
   "cell_type": "code",
   "execution_count": 4,
   "id": "4611430a-2c15-4875-b9f9-e76614f95a74",
   "metadata": {},
   "outputs": [
    {
     "data": {
      "text/plain": [
       "0    3858\n",
       "1    3705\n",
       "2    3944\n",
       "3    3661\n",
       "4    3231\n",
       "5    3154\n",
       "6    3674\n",
       "7    2651\n",
       "8    2652\n",
       "9    2653\n",
       "Name: Project Link Code, dtype: object"
      ]
     },
     "execution_count": 4,
     "metadata": {},
     "output_type": "execute_result"
    }
   ],
   "source": [
    "project_links_df['Project Link Code'].iloc[0:10]"
   ]
  },
  {
   "cell_type": "code",
   "execution_count": 5,
   "id": "f69356e4",
   "metadata": {},
   "outputs": [],
   "source": [
    "search_url = \"https://data.archwaypartnership.uga.edu/\"\n",
    "\n",
    "browser = webdriver.Chrome()\n",
    "\n",
    "# Open browser to begin search\n",
    "browser.get(search_url)\n",
    "\n",
    "# Maximize the window\n",
    "browser.maximize_window()\n",
    "\n",
    "time.sleep(2)"
   ]
  },
  {
   "cell_type": "code",
   "execution_count": 6,
   "id": "972795a6",
   "metadata": {},
   "outputs": [],
   "source": [
    "# entering the username\n",
    "input_username = browser.find_element(By.ID,'edit-name')\n",
    "input_username.send_keys(\"bs83243\")\n",
    "\n",
    "time.sleep(1)\n",
    "\n",
    "# entering the password\n",
    "input_password = browser.find_element(By.ID,'edit-pass')\n",
    "input_password.send_keys(\"BS@15july1997\")\n",
    "\n",
    "\n",
    "time.sleep(1)\n",
    "\n",
    "# clicking the login button\n",
    "button_login = browser.find_element(By.ID,'edit-submit')\n",
    "button_login.click()\n",
    "time.sleep(2)"
   ]
  },
  {
   "cell_type": "code",
   "execution_count": 7,
   "id": "2ffb1d10",
   "metadata": {},
   "outputs": [
    {
     "name": "stdout",
     "output_type": "stream",
     "text": [
      "Processing project link: https://data.archwaypartnership.uga.edu/project/3858\n"
     ]
    }
   ],
   "source": [
    "\n",
    "# Load the CSV file with your data\n",
    "df = project_links_df\n",
    "\n",
    "# Iterate over the rows in the dataframe\n",
    "for index, row in df.iterrows():\n",
    "    code = str(row['Project Link Code'])\n",
    "    project_link = row['Project Link']\n",
    "    print(f'Processing project link: {project_link}')\n",
    "    browser.get(project_link)\n",
    "    time.sleep(2)\n",
    "\n",
    "    # deliverable_folder = f'../../Downloads/Test-Rename/{code}-deliverables'\n",
    "    deliverable_folder = f'/Users/bsingh/Downloads/Test-rename/{code}-deliverables'\n",
    "    \n",
    "    next_page_exists = True\n",
    "    while(next_page_exists):\n",
    "       next_page_exists = False\n",
    "       # Get the HTML content to find the <a> tag containing the file name\n",
    "       html_content = browser.page_source\n",
    "       table = browser.find_elements(By.TAG_NAME, 'table')\n",
    "       if(len(table) < 4):\n",
    "           print(f\"No deliverables for: {project_link}\")\n",
    "           break\n",
    "       tbody = table[3].find_elements(By.TAG_NAME, 'tbody')[0]\n",
    "       rows = tbody.find_elements(By.TAG_NAME, 'tr')\n",
    "\n",
    "       for row in rows:\n",
    "           data = row.find_elements(By.TAG_NAME, 'td')[0]\n",
    "           a_tag = data.find_element(By.TAG_NAME, 'a')\n",
    "           del_link = a_tag.get_attribute('href')\n",
    "\n",
    "           old_file_name = del_link.split('/')[-1]\n",
    "           new_file_name = data.text\n",
    "        #    Check is old file name is present\n",
    "           if os.path.isfile(f'{deliverable_folder}/{old_file_name}'):\n",
    "               os.rename(f'{deliverable_folder}/{old_file_name}', f'{deliverable_folder}/{new_file_name}')\n",
    "               print(f'Renamed {old_file_name} to {new_file_name}')\n",
    "           \n",
    "       #    Check for next page , complex code\n",
    "       #    Find the navigation panel at the bottom, not present for projects with only one page\n",
    "       nav = browser.find_elements(By.CLASS_NAME, 'pager')\n",
    "       if len(nav) > 0:\n",
    "        #    Find for the li in the ul and check every li for the next page button, if exist then click it\n",
    "            nav_list = nav[0].find_elements(By.TAG_NAME, 'li')\n",
    "            for li in nav_list:\n",
    "                a_tag = li.find_elements(By.TAG_NAME, 'a')\n",
    "                if a_tag and 'Go to next page' in a_tag[0].get_attribute('title'):\n",
    "                    a_tag[0].click()\n",
    "                    time.sleep(2)\n",
    "                    next_page_exists = True\n",
    "                    break\n",
    "                \n",
    "    break"
   ]
  }
 ],
 "metadata": {
  "kernelspec": {
   "display_name": "Python 3",
   "language": "python",
   "name": "python3"
  },
  "language_info": {
   "codemirror_mode": {
    "name": "ipython",
    "version": 3
   },
   "file_extension": ".py",
   "mimetype": "text/x-python",
   "name": "python",
   "nbconvert_exporter": "python",
   "pygments_lexer": "ipython3",
   "version": "3.12.4"
  }
 },
 "nbformat": 4,
 "nbformat_minor": 5
}

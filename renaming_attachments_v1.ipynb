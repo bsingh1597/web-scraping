{
 "cells": [
  {
   "cell_type": "code",
   "execution_count": null,
   "id": "7155ab27-2f76-478e-8cd8-5220d75e0663",
   "metadata": {},
   "outputs": [],
   "source": [
    "from pandas.core.frame import DataFrame\n",
    "from selenium import webdriver\n",
    "from selenium.webdriver.common.by import By\n",
    "import pandas as pd\n",
    "import time\n",
    "import os"
   ]
  },
  {
   "cell_type": "markdown",
   "id": "7b0fdf66-289c-43ec-96fd-3f0172de29cf",
   "metadata": {},
   "source": [
    "# Importing Files"
   ]
  },
  {
   "cell_type": "code",
   "execution_count": null,
   "id": "87e3f9d6-9b94-49e5-8628-ce32b6948e85",
   "metadata": {},
   "outputs": [],
   "source": [
    "project_links_df = pd.read_excel('project_links.xlsx')\n",
    "project_links_df.head()"
   ]
  },
  {
   "cell_type": "code",
   "execution_count": null,
   "id": "6b5b59d0-af3d-44ce-bd9f-327a450ff137",
   "metadata": {},
   "outputs": [],
   "source": [
    "# creating a new column for the code in the project link\n",
    "\n",
    "project_links_df['Project Link Code'] = project_links_df['Project Link'].apply(lambda x: x.split(\"/\")[-1])\n",
    "project_links_df.head()"
   ]
  },
  {
   "cell_type": "markdown",
   "id": "ed3a6336-6d57-426d-9faf-9646a0d64e0a",
   "metadata": {},
   "source": [
    "### Function to rename files"
   ]
  },
  {
   "cell_type": "code",
   "execution_count": null,
   "id": "4611430a-2c15-4875-b9f9-e76614f95a74",
   "metadata": {},
   "outputs": [],
   "source": [
    "project_links_df['Project Link Code'].iloc[0:10]"
   ]
  },
  {
   "cell_type": "code",
   "execution_count": null,
   "id": "f69356e4",
   "metadata": {},
   "outputs": [],
   "source": [
    "search_url = \"https://data.archwaypartnership.uga.edu/\"\n",
    "\n",
    "browser = webdriver.Chrome()\n",
    "\n",
    "# Open browser to begin search\n",
    "browser.get(search_url)\n",
    "\n",
    "# Maximize the window\n",
    "browser.maximize_window()\n",
    "\n",
    "time.sleep(2)"
   ]
  },
  {
   "cell_type": "code",
   "execution_count": null,
   "id": "972795a6",
   "metadata": {},
   "outputs": [],
   "source": [
    "# entering the username\n",
    "input_username = browser.find_element(By.ID,'edit-name')\n",
    "input_username.send_keys(\"bs83243\")\n",
    "\n",
    "time.sleep(1)\n",
    "\n",
    "# entering the password\n",
    "input_password = browser.find_element(By.ID,'edit-pass')\n",
    "input_password.send_keys(\"BS@15july1997\")\n",
    "\n",
    "\n",
    "time.sleep(1)\n",
    "\n",
    "# clicking the login button\n",
    "button_login = browser.find_element(By.ID,'edit-submit')\n",
    "button_login.click()\n",
    "time.sleep(2)"
   ]
  },
  {
   "cell_type": "code",
   "execution_count": null,
   "id": "eaa39142",
   "metadata": {},
   "outputs": [],
   "source": [
    "def get_table(browser):\n",
    "    table = browser.find_elements(By.TAG_NAME, 'table')\n",
    "    # Deliverable table is the 4th table on the page\n",
    "    if len(table) < 4:\n",
    "        return None\n",
    "    return table[3]\n",
    "\n",
    "def get_rows(table):\n",
    "    tbody = table.find_elements(By.TAG_NAME, 'tbody')[0]\n",
    "    return tbody.find_elements(By.TAG_NAME, 'tr')"
   ]
  },
  {
   "cell_type": "code",
   "execution_count": null,
   "id": "922d3d40",
   "metadata": {},
   "outputs": [],
   "source": [
    "def check_next_page(browser):\n",
    "    nav = browser.find_elements(By.CLASS_NAME, 'pager')\n",
    "    if len(nav) > 0:\n",
    "        nav_list = nav[0].find_elements(By.TAG_NAME, 'li')\n",
    "        for li in nav_list:\n",
    "            a_tag = li.find_elements(By.TAG_NAME, 'a')\n",
    "            if a_tag and 'Go to next page' in a_tag[0].get_attribute('title'):\n",
    "                a_tag[0].click()\n",
    "                time.sleep(2)\n",
    "                return True\n",
    "    return False"
   ]
  },
  {
   "cell_type": "code",
   "execution_count": null,
   "id": "7a7b720b",
   "metadata": {},
   "outputs": [],
   "source": [
    "def rename_files_in_row(row, deliverable_folder):\n",
    "    data = row.find_elements(By.TAG_NAME, 'td')[0]\n",
    "    a_tag = data.find_element(By.TAG_NAME, 'a')\n",
    "    del_link = a_tag.get_attribute('href')\n",
    "\n",
    "    old_file_name = del_link.split('/')[-1]\n",
    "    new_file_name = data.text\n",
    "\n",
    "    old_file_path = os.path.join(deliverable_folder, old_file_name)\n",
    "    new_file_path = os.path.join(deliverable_folder, new_file_name)\n",
    "\n",
    "    if os.path.isfile(old_file_path):\n",
    "        # There are some files with duplicate names\n",
    "        if os.path.isfile(new_file_path):\n",
    "            new_file_path = f\"{new_file_path}_1\"\n",
    "        os.rename(old_file_path, new_file_path)\n",
    "        print(f'Renamed {old_file_name} to {new_file_name}')"
   ]
  },
  {
   "cell_type": "code",
   "execution_count": null,
   "id": "e5becee8",
   "metadata": {},
   "outputs": [],
   "source": [
    "def process_deliverables(browser, deliverable_folder):\n",
    "    next_page_exists = True\n",
    "    while next_page_exists:\n",
    "        next_page_exists = False\n",
    "        table = get_table(browser)\n",
    "        if table is None:\n",
    "            # No deliverables found\n",
    "            break\n",
    "        rows = get_rows(table)\n",
    "        for row in rows:\n",
    "            rename_files_in_row(row, deliverable_folder)\n",
    "        next_page_exists = check_next_page(browser)"
   ]
  },
  {
   "cell_type": "code",
   "execution_count": null,
   "id": "459539b5",
   "metadata": {},
   "outputs": [],
   "source": [
    "# Load the CSV file with your data\n",
    "df = project_links_df\n",
    "\n",
    "# Iterate over the rows in the dataframe\n",
    "for index, row in df.iterrows():\n",
    "    code = str(row['Project Link Code'])\n",
    "    project_link = row['Project Link']\n",
    "    print(f'Processing project link: {project_link}')\n",
    "    browser.get(project_link)\n",
    "    time.sleep(2)\n",
    "    \n",
    "    # deliverable_folder = f'../../Downloads/Test-Rename/{code}-deliverables'\n",
    "    deliverable_folder = f'/Users/bs83243/Downloads/Test-Deliverables-Extracted/{code}-deliverables'\n",
    "    process_deliverables(browser, deliverable_folder)"
   ]
  }
 ],
 "metadata": {
  "kernelspec": {
   "display_name": "Python 3",
   "language": "python",
   "name": "python3"
  },
  "language_info": {
   "codemirror_mode": {
    "name": "ipython",
    "version": 3
   },
   "file_extension": ".py",
   "mimetype": "text/x-python",
   "name": "python",
   "nbconvert_exporter": "python",
   "pygments_lexer": "ipython3",
   "version": "3.12.4"
  }
 },
 "nbformat": 4,
 "nbformat_minor": 5
}

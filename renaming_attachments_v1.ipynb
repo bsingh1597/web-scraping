{
 "cells": [
  {
   "cell_type": "code",
   "execution_count": null,
   "id": "0",
   "metadata": {},
   "outputs": [],
   "source": [
    "from pandas.core.frame import DataFrame\n",
    "from selenium import webdriver\n",
    "from selenium.webdriver.common.by import By\n",
    "import pandas as pd\n",
    "import time\n",
    "import os"
   ]
  },
  {
   "cell_type": "markdown",
   "id": "1",
   "metadata": {},
   "source": [
    "# Importing Files"
   ]
  },
  {
   "cell_type": "code",
   "execution_count": null,
   "id": "2",
   "metadata": {},
   "outputs": [],
   "source": [
    "project_links_df = pd.read_excel('project_links.xlsx')\n",
    "project_links_df.head()"
   ]
  },
  {
   "cell_type": "code",
   "execution_count": null,
   "id": "3",
   "metadata": {},
   "outputs": [],
   "source": [
    "# creating a new column for the code in the project link\n",
    "\n",
    "project_links_df['Project Link Code'] = project_links_df['Project Link'].apply(lambda x: x.split(\"/\")[-1])\n",
    "project_links_df.head()"
   ]
  },
  {
   "cell_type": "markdown",
   "id": "4",
   "metadata": {},
   "source": [
    "### Function to rename files"
   ]
  },
  {
   "cell_type": "code",
   "execution_count": null,
   "id": "5",
   "metadata": {},
   "outputs": [],
   "source": [
    "search_url = \"https://data.archwaypartnership.uga.edu/\"\n",
    "\n",
    "browser = webdriver.Chrome()\n",
    "\n",
    "# Open browser to begin search\n",
    "browser.get(search_url)\n",
    "\n",
    "# Maximize the window\n",
    "browser.maximize_window()\n",
    "\n",
    "time.sleep(2)"
   ]
  },
  {
   "cell_type": "code",
   "execution_count": null,
   "id": "6",
   "metadata": {},
   "outputs": [],
   "source": [
    "# entering the username\n",
    "input_username = browser.find_element(By.ID,'edit-name')\n",
    "input_username.send_keys(\"bs83243\")\n",
    "\n",
    "time.sleep(1)\n",
    "\n",
    "# entering the password\n",
    "input_password = browser.find_element(By.ID,'edit-pass')\n",
    "input_password.send_keys(\"BS@15july1997\")\n",
    "\n",
    "\n",
    "time.sleep(1)\n",
    "\n",
    "# clicking the login button\n",
    "button_login = browser.find_element(By.ID,'edit-submit')\n",
    "button_login.click()\n",
    "time.sleep(2)"
   ]
  },
  {
   "cell_type": "code",
   "execution_count": null,
   "id": "7",
   "metadata": {},
   "outputs": [],
   "source": [
    "def get_table(browser):\n",
    "    table = browser.find_elements(By.TAG_NAME, 'table')\n",
    "    # Deliverable table is the 4th table on the page\n",
    "    if len(table) < 4:\n",
    "        return None\n",
    "    return table[3]\n",
    "\n",
    "def get_rows(table):\n",
    "    tbody = table.find_elements(By.TAG_NAME, 'tbody')[0]\n",
    "    return tbody.find_elements(By.TAG_NAME, 'tr')"
   ]
  },
  {
   "cell_type": "code",
   "execution_count": null,
   "id": "8",
   "metadata": {},
   "outputs": [],
   "source": [
    "def check_next_page(browser):\n",
    "    nav = browser.find_elements(By.CLASS_NAME, 'pager')\n",
    "    if len(nav) > 0:\n",
    "        nav_list = nav[0].find_elements(By.TAG_NAME, 'li')\n",
    "        for li in nav_list:\n",
    "            a_tag = li.find_elements(By.TAG_NAME, 'a')\n",
    "            if a_tag and 'Go to next page' in a_tag[0].get_attribute('title'):\n",
    "                a_tag[0].click()\n",
    "                time.sleep(1)\n",
    "                return True\n",
    "    return False"
   ]
  },
  {
   "cell_type": "code",
   "execution_count": null,
   "id": "9",
   "metadata": {},
   "outputs": [],
   "source": [
    "def rename_files_in_row(row, deliverable_path):\n",
    "    # print('deliverable_path:', deliverable_path)\n",
    "    data = row.find_elements(By.TAG_NAME, 'td')[0]\n",
    "    a_tag = data.find_element(By.TAG_NAME, 'a')\n",
    "    del_link = a_tag.get_attribute('href')\n",
    "\n",
    "    old_file_name = del_link.split('/')[-1]\n",
    "    new_file_name = data.text\n",
    "\n",
    "    old_file_path = os.path.join(deliverable_path, old_file_name)\n",
    "    new_file_path = os.path.join(deliverable_path, new_file_name)\n",
    "\n",
    "    if os.path.isfile(old_file_path):\n",
    "        # There are some files with duplicate names\n",
    "        if os.path.isfile(new_file_path):\n",
    "            new_file_path = f\"{new_file_path}_1\"\n",
    "        os.rename(old_file_path, new_file_path)\n",
    "        print(f'Renamed {old_file_name} to {new_file_name}')"
   ]
  },
  {
   "cell_type": "code",
   "execution_count": null,
   "id": "10",
   "metadata": {},
   "outputs": [],
   "source": [
    "def process_deliverables(browser, deliverable_path):\n",
    "    # print('Processing Path:', deliverable_path)\n",
    "    next_page_exists = True\n",
    "    while next_page_exists:\n",
    "        next_page_exists = False\n",
    "        table = get_table(browser)\n",
    "        if table is None:\n",
    "            print('No deliverables found')\n",
    "            # No deliverables found\n",
    "            break\n",
    "        rows = get_rows(table)\n",
    "        for row in rows:\n",
    "            rename_files_in_row(row, deliverable_path)\n",
    "        next_page_exists = check_next_page(browser)"
   ]
  },
  {
   "cell_type": "code",
   "execution_count": null,
   "id": "11",
   "metadata": {},
   "outputs": [],
   "source": [
    "deliverable_folder = f'/Users/bsingh/Downloads/Test-Deliverables-Extracted'\n",
    "for root , dirs, _ in os.walk(deliverable_folder):\n",
    "    for dir in dirs:\n",
    "        project_code = dir.split('-')[0]\n",
    "        project_link = project_links_df.loc[project_links_df['Project Link Code'] == project_code, 'Project Link'].values[0]\n",
    "        \n",
    "        # Path of the deliverable folder\n",
    "        deliverable_path = os.path.join(root, dir)\n",
    "        print(f'Processing project link: {project_link}')\n",
    "        browser.get(project_link)\n",
    "        time.sleep(1)\n",
    "        \n",
    "        process_deliverables(browser, deliverable_path)\n",
    "        "
   ]
  }
 ],
 "metadata": {
  "kernelspec": {
   "display_name": "Python 3",
   "language": "python",
   "name": "python3"
  },
  "language_info": {
   "codemirror_mode": {
    "name": "ipython",
    "version": 3
   },
   "file_extension": ".py",
   "mimetype": "text/x-python",
   "name": "python",
   "nbconvert_exporter": "python",
   "pygments_lexer": "ipython3",
   "version": "3.9.6"
  }
 },
 "nbformat": 4,
 "nbformat_minor": 5
}

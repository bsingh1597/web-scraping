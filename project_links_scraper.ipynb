{
 "cells": [
  {
   "cell_type": "markdown",
   "id": "9d4cf73d-c670-4890-8d75-b1d29803b56e",
   "metadata": {},
   "source": [
    "# Installing Libraries"
   ]
  },
  {
   "cell_type": "code",
   "execution_count": 1,
   "id": "eb4307e1-3815-42ea-85ac-e3dc32959158",
   "metadata": {},
   "outputs": [],
   "source": [
    "# ! pip3 install selenium\n",
    "# ! pip3 install webdriver_manager"
   ]
  },
  {
   "cell_type": "markdown",
   "id": "eb3d18b7-76f2-4ebd-89be-2d175549d9f6",
   "metadata": {},
   "source": [
    "# Importing Libraries"
   ]
  },
  {
   "cell_type": "code",
   "execution_count": null,
   "id": "a8835bef-6240-4cf6-9621-5ddc73e1cb36",
   "metadata": {},
   "outputs": [],
   "source": [
    "from typing import ItemsView\n",
    "from pandas.core.frame import DataFrame\n",
    "from selenium import webdriver\n",
    "from selenium.webdriver.common.by import By\n",
    "from webdriver_manager.chrome import ChromeDriverManager\n",
    "from selenium.webdriver.chrome.options import Options\n",
    "import pandas as pd\n",
    "import time"
   ]
  },
  {
   "cell_type": "markdown",
   "id": "fcc9a49f-3b6b-45b0-bf07-a055b703b853",
   "metadata": {},
   "source": [
    "# Scrape"
   ]
  },
  {
   "cell_type": "markdown",
   "id": "0e2fbda8-203d-4cea-8f08-0c8f61bd7392",
   "metadata": {},
   "source": [
    "### Opening up the landing page"
   ]
  },
  {
   "cell_type": "code",
   "execution_count": 6,
   "id": "44d194ce-1311-43f1-b5e0-0123f995fd88",
   "metadata": {},
   "outputs": [],
   "source": [
    "search_url = \"https://data.archwaypartnership.uga.edu/\"\n",
    "\n",
    "browser = webdriver.Chrome()\n",
    "\n",
    "# Open browser to begin search\n",
    "browser.get(search_url)\n",
    "\n",
    "# Maximize the window\n",
    "browser.maximize_window()\n",
    "\n",
    "time.sleep(2)"
   ]
  },
  {
   "cell_type": "markdown",
   "id": "d5b53dab-2ce9-4999-8d9c-cbe9f31257eb",
   "metadata": {},
   "source": [
    "### Entering the login credentials"
   ]
  },
  {
   "cell_type": "code",
   "execution_count": 7,
   "id": "4c7f8cb4-35e6-4481-966d-c0a4ac7411f9",
   "metadata": {},
   "outputs": [],
   "source": [
    "# entering the username\n",
    "input_username = browser.find_element(By.ID,'edit-name')\n",
    "input_username.send_keys(\"bs83243\")\n",
    "\n",
    "time.sleep(1)\n",
    "\n",
    "# entering the password\n",
    "input_password = browser.find_element(By.ID,'edit-pass')\n",
    "input_password.send_keys(\"BS@15july1997\")\n",
    "\n",
    "\n",
    "time.sleep(1)\n",
    "\n",
    "# clicking the login button\n",
    "button_login = browser.find_element(By.ID,'edit-submit')\n",
    "button_login.click()\n",
    "time.sleep(2)"
   ]
  },
  {
   "cell_type": "code",
   "execution_count": 8,
   "id": "ff84c1d2-36d5-41c1-b41d-01626599ef39",
   "metadata": {},
   "outputs": [],
   "source": [
    "# for i in range(0,95):\n",
    "#     print(i)"
   ]
  },
  {
   "cell_type": "markdown",
   "id": "2fb77187-018f-41a6-9e25-2741b9cbfbf4",
   "metadata": {},
   "source": [
    "### Creating a dataframe of project links with other information"
   ]
  },
  {
   "cell_type": "code",
   "execution_count": 11,
   "id": "8d3297cf-25ad-4b40-8633-778d1c25a0b0",
   "metadata": {},
   "outputs": [
    {
     "name": "stdout",
     "output_type": "stream",
     "text": [
      "Printing now------50\n",
      "Printing now------100\n",
      "Printing now------150\n",
      "Printing now------200\n",
      "Printing now------250\n",
      "Printing now------300\n",
      "Printing now------350\n",
      "Printing now------400\n",
      "Printing now------450\n",
      "Printing now------500\n",
      "Printing now------550\n",
      "Printing now------600\n",
      "Printing now------650\n",
      "Printing now------700\n",
      "Printing now------750\n",
      "Printing now------800\n",
      "Printing now------850\n",
      "Printing now------900\n",
      "Printing now------950\n",
      "Printing now------1000\n",
      "Printing now------1050\n",
      "Printing now------1100\n",
      "Printing now------1150\n",
      "Printing now------1200\n",
      "Printing now------1250\n",
      "Printing now------1300\n",
      "Printing now------1350\n",
      "Printing now------1400\n",
      "Printing now------1450\n",
      "Printing now------1500\n",
      "Printing now------1550\n",
      "Printing now------1600\n",
      "Printing now------1650\n",
      "Printing now------1700\n",
      "Printing now------1750\n",
      "Printing now------1800\n",
      "Printing now------1850\n",
      "Printing now------1900\n",
      "Printing now------1950\n",
      "Printing now------2000\n",
      "Printing now------2050\n",
      "Printing now------2100\n",
      "Printing now------2150\n",
      "Printing now------2200\n",
      "Printing now------2250\n",
      "Printing now------2300\n",
      "Printing now------2350\n"
     ]
    }
   ],
   "source": [
    "project_links_dict = {\"Project Link\":[],\n",
    "                    \"Project Approval Date\":[],\n",
    "                    \"Project Code\":[],\n",
    "                     \"County\":[],\n",
    "                     \"Project Name\":[],\n",
    "                     \"Project Status\":[],\n",
    "                     \"Open Action Items\":[]}\n",
    "\n",
    "# looping thourgh pages\n",
    "\n",
    "count=0\n",
    "\n",
    "for i in range(0,95):\n",
    "    \n",
    "    browser.get(f'https://data.archwaypartnership.uga.edu/?page={i}')\n",
    "\n",
    "# Getting the list of projects\n",
    "\n",
    "    project_list = browser.find_element(By.TAG_NAME, 'tbody').find_elements(By.TAG_NAME, 'tr')\n",
    "\n",
    "    for project_list_item in project_list:\n",
    "        \n",
    "        count+=1\n",
    "\n",
    "        project_link = project_list_item.find_elements(By.TAG_NAME,'td')[0].find_element(By.TAG_NAME,'a').get_attribute('href')\n",
    "        project_approval_date = project_list_item.find_elements(By.TAG_NAME,'td')[1].text\n",
    "        project_code = project_list_item.find_elements(By.TAG_NAME,'td')[2].text\n",
    "        project_county = project_list_item.find_elements(By.TAG_NAME,'td')[3].text\n",
    "        project_name = project_list_item.find_elements(By.TAG_NAME,'td')[4].text\n",
    "        project_status = project_list_item.find_elements(By.TAG_NAME,'td')[5].text\n",
    "        project_oai = project_list_item.find_elements(By.TAG_NAME,'td')[6].text\n",
    "\n",
    "\n",
    "        project_links_dict['Project Link'].append(project_link)\n",
    "        project_links_dict['Project Approval Date'].append(project_approval_date)\n",
    "        project_links_dict['Project Code'].append(project_code)\n",
    "        project_links_dict['County'].append(project_county)\n",
    "        project_links_dict['Project Name'].append(project_name)\n",
    "        project_links_dict['Project Status'].append(project_status)\n",
    "        project_links_dict['Open Action Items'].append(project_oai)\n",
    "        \n",
    "        \n",
    "        if count%50==0:\n",
    "            project_links_df = pd.DataFrame(data=project_links_dict)\n",
    "            project_links_df.to_excel('project_links.xlsx', index=False)\n",
    "            print(f'Printing now------{count}')\n",
    "            \n",
    "        else:\n",
    "            pass\n",
    "\n",
    "    "
   ]
  },
  {
   "cell_type": "code",
   "execution_count": 12,
   "id": "0cb4b9be-6db9-4714-952e-9ee2e2acd2ed",
   "metadata": {},
   "outputs": [],
   "source": [
    "project_links_df = pd.DataFrame(data=project_links_dict)\n",
    "\n",
    "project_links_df.to_excel('project_links.xlsx', index=False)"
   ]
  },
  {
   "cell_type": "code",
   "execution_count": 13,
   "id": "d977a511-ab7c-4f3c-b48b-7d64f0be9803",
   "metadata": {},
   "outputs": [],
   "source": [
    "time.sleep(3)\n",
    "browser.close()"
   ]
  },
  {
   "cell_type": "code",
   "execution_count": null,
   "id": "26b70e86-dee7-42dc-a40e-8320e2394b29",
   "metadata": {},
   "outputs": [],
   "source": []
  },
  {
   "cell_type": "code",
   "execution_count": null,
   "id": "5b4c14c4-8d92-40f8-a1b2-c81d9a91ceef",
   "metadata": {},
   "outputs": [],
   "source": []
  },
  {
   "cell_type": "code",
   "execution_count": null,
   "id": "eccf002f-b16e-4a65-b2ef-bf5c351d11a5",
   "metadata": {},
   "outputs": [],
   "source": []
  }
 ],
 "metadata": {
  "kernelspec": {
   "display_name": "Python 3 (ipykernel)",
   "language": "python",
   "name": "python3"
  },
  "language_info": {
   "codemirror_mode": {
    "name": "ipython",
    "version": 3
   },
   "file_extension": ".py",
   "mimetype": "text/x-python",
   "name": "python",
   "nbconvert_exporter": "python",
   "pygments_lexer": "ipython3",
   "version": "3.12.4"
  }
 },
 "nbformat": 4,
 "nbformat_minor": 5
}

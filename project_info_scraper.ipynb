{
 "cells": [
  {
   "cell_type": "markdown",
   "id": "9d4cf73d-c670-4890-8d75-b1d29803b56e",
   "metadata": {},
   "source": [
    "# Installing Libraries"
   ]
  },
  {
   "cell_type": "code",
   "execution_count": 1,
   "id": "eb4307e1-3815-42ea-85ac-e3dc32959158",
   "metadata": {},
   "outputs": [],
   "source": [
    "# ! pip3 install selenium\n",
    "# ! pip3 install webdriver_manager"
   ]
  },
  {
   "cell_type": "markdown",
   "id": "eb3d18b7-76f2-4ebd-89be-2d175549d9f6",
   "metadata": {},
   "source": [
    "# Importing Libraries"
   ]
  },
  {
   "cell_type": "code",
   "execution_count": null,
   "id": "a8835bef-6240-4cf6-9621-5ddc73e1cb36",
   "metadata": {},
   "outputs": [],
   "source": [
    "from typing import ItemsView\n",
    "from pandas.core.frame import DataFrame\n",
    "from selenium import webdriver\n",
    "from selenium.webdriver.common.by import By\n",
    "from webdriver_manager.chrome import ChromeDriverManager\n",
    "from selenium.webdriver.chrome.options import Options\n",
    "import pandas as pd\n",
    "import time"
   ]
  },
  {
   "cell_type": "markdown",
   "id": "fcc9a49f-3b6b-45b0-bf07-a055b703b853",
   "metadata": {},
   "source": [
    "# Scrape"
   ]
  },
  {
   "cell_type": "markdown",
   "id": "0e2fbda8-203d-4cea-8f08-0c8f61bd7392",
   "metadata": {},
   "source": [
    "### Opening up the landing page"
   ]
  },
  {
   "cell_type": "code",
   "execution_count": 2,
   "id": "44d194ce-1311-43f1-b5e0-0123f995fd88",
   "metadata": {},
   "outputs": [],
   "source": [
    "search_url = \"https://data.archwaypartnership.uga.edu/\"\n",
    "\n",
    "browser = webdriver.Chrome()\n",
    "\n",
    "# Open browser to begin search\n",
    "browser.get(search_url)\n",
    "\n",
    "# Maximize the window\n",
    "browser.maximize_window()\n",
    "\n",
    "time.sleep(2)"
   ]
  },
  {
   "cell_type": "markdown",
   "id": "d5b53dab-2ce9-4999-8d9c-cbe9f31257eb",
   "metadata": {},
   "source": [
    "### Entering the login credentials"
   ]
  },
  {
   "cell_type": "code",
   "execution_count": 3,
   "id": "4c7f8cb4-35e6-4481-966d-c0a4ac7411f9",
   "metadata": {},
   "outputs": [],
   "source": [
    "# entering the username\n",
    "input_username = browser.find_element(By.ID,'edit-name')\n",
    "input_username.send_keys(\"bs83243\")\n",
    "\n",
    "time.sleep(1)\n",
    "\n",
    "# entering the password\n",
    "input_password = browser.find_element(By.ID,'edit-pass')\n",
    "input_password.send_keys(\"BS@15july1997\")\n",
    "\n",
    "\n",
    "time.sleep(1)\n",
    "\n",
    "# clicking the login button\n",
    "button_login = browser.find_element(By.ID,'edit-submit')\n",
    "button_login.click()\n",
    "time.sleep(2)"
   ]
  },
  {
   "cell_type": "code",
   "execution_count": null,
   "id": "04f0eb7c-2afa-4fe7-979c-28f15d1f153c",
   "metadata": {},
   "outputs": [],
   "source": []
  },
  {
   "cell_type": "markdown",
   "id": "b224931f-feeb-4929-ad70-f15f7bf681f1",
   "metadata": {},
   "source": [
    "### Importing the links"
   ]
  },
  {
   "cell_type": "code",
   "execution_count": 7,
   "id": "e351bd66-129a-4562-a3b8-7b1692272424",
   "metadata": {},
   "outputs": [],
   "source": [
    "project_links_df = pd.read_excel('project_links.xlsx')\n",
    "\n",
    "# creating a list out of the project links\n",
    "project_links = project_links_df['Project Link']\n",
    "\n",
    "# reducing the link to the first 100 projects\n",
    "project_links_filtered = project_links.iloc[:50]\n",
    "\n",
    "# project_links_test = ['https://data.archwaypartnership.uga.edu/project/4592','https://data.archwaypartnership.uga.edu/project/4599','https://data.archwaypartnership.uga.edu/project/12740']"
   ]
  },
  {
   "cell_type": "code",
   "execution_count": 5,
   "id": "0005674a-aef2-426b-b410-d2f100ad703b",
   "metadata": {},
   "outputs": [],
   "source": [
    "project_info_dict = {\"Project Link\":[],\n",
    "                    \"Client Type\":[],\n",
    "                     \"Community Organizations\":[],\n",
    "                      \"Priority Area\":[],\n",
    "                     \"Project Details\":[],\n",
    "                     \"Project Value\":[],\n",
    "                     \"Contract Amount\":[],\n",
    "                     \"Grant Amount\":[]\n",
    "                     }"
   ]
  },
  {
   "cell_type": "code",
   "execution_count": null,
   "id": "d2b92db7",
   "metadata": {},
   "outputs": [
    {
     "name": "stdout",
     "output_type": "stream",
     "text": [
      "We are scraping project number #1\n",
      "We are scraping project number #2\n",
      "We are scraping project number #3\n",
      "We are scraping project number #4\n",
      "We are scraping project number #5\n"
     ]
    }
   ],
   "source": [
    "count = 0\n",
    "\n",
    "for project_link in project_links_filtered:\n",
    "    \n",
    "    count+=1\n",
    "    \n",
    "    print(f\"We are scraping project number #{count}\")\n",
    "\n",
    "    browser.get(project_link)\n",
    "    \n",
    "    time.sleep(2)\n",
    "    # download the zip file\n",
    "    browser.find_element(By.CLASS_NAME,'action-links').find_elements(By.TAG_NAME, 'a')[0].click()"
   ]
  },
  {
   "cell_type": "code",
   "execution_count": 7,
   "id": "054b01df-76cb-4239-b562-8afa0e17a63d",
   "metadata": {},
   "outputs": [
    {
     "name": "stdout",
     "output_type": "stream",
     "text": [
      "We are scraping project number #1\n",
      "We are scraping project number #2\n",
      "We are scraping project number #3\n",
      "We are scraping project number #4\n",
      "We are scraping project number #5\n",
      "We are scraping project number #6\n",
      "We are scraping project number #7\n",
      "We are scraping project number #8\n",
      "We are scraping project number #9\n",
      "We are scraping project number #10\n",
      "We are scraping project number #11\n",
      "We are scraping project number #12\n",
      "We are scraping project number #13\n",
      "We are scraping project number #14\n",
      "We are scraping project number #15\n",
      "We are scraping project number #16\n",
      "We are scraping project number #17\n",
      "We are scraping project number #18\n",
      "We are scraping project number #19\n",
      "We are scraping project number #20\n",
      "We are scraping project number #21\n",
      "We are scraping project number #22\n",
      "We are scraping project number #23\n",
      "We are scraping project number #24\n",
      "We are scraping project number #25\n",
      "We are scraping project number #26\n",
      "We are scraping project number #27\n",
      "We are scraping project number #28\n",
      "We are scraping project number #29\n",
      "We are scraping project number #30\n",
      "We are scraping project number #31\n",
      "We are scraping project number #32\n",
      "We are scraping project number #33\n",
      "We are scraping project number #34\n",
      "We are scraping project number #35\n",
      "We are scraping project number #36\n",
      "We are scraping project number #37\n",
      "We are scraping project number #38\n",
      "We are scraping project number #39\n",
      "We are scraping project number #40\n",
      "We are scraping project number #41\n",
      "We are scraping project number #42\n",
      "We are scraping project number #43\n",
      "We are scraping project number #44\n",
      "We are scraping project number #45\n",
      "We are scraping project number #46\n",
      "We are scraping project number #47\n",
      "We are scraping project number #48\n",
      "We are scraping project number #49\n",
      "We are scraping project number #50\n",
      "Printing now------50\n",
      "We are scraping project number #51\n",
      "We are scraping project number #52\n",
      "We are scraping project number #53\n",
      "We are scraping project number #54\n",
      "We are scraping project number #55\n",
      "We are scraping project number #56\n",
      "We are scraping project number #57\n",
      "We are scraping project number #58\n",
      "We are scraping project number #59\n",
      "We are scraping project number #60\n",
      "We are scraping project number #61\n",
      "We are scraping project number #62\n",
      "We are scraping project number #63\n",
      "We are scraping project number #64\n",
      "We are scraping project number #65\n",
      "We are scraping project number #66\n",
      "We are scraping project number #67\n",
      "We are scraping project number #68\n",
      "We are scraping project number #69\n",
      "We are scraping project number #70\n",
      "We are scraping project number #71\n",
      "We are scraping project number #72\n",
      "We are scraping project number #73\n",
      "We are scraping project number #74\n",
      "We are scraping project number #75\n",
      "We are scraping project number #76\n",
      "We are scraping project number #77\n",
      "We are scraping project number #78\n",
      "We are scraping project number #79\n",
      "We are scraping project number #80\n",
      "We are scraping project number #81\n",
      "We are scraping project number #82\n",
      "We are scraping project number #83\n",
      "We are scraping project number #84\n",
      "We are scraping project number #85\n",
      "We are scraping project number #86\n",
      "We are scraping project number #87\n",
      "We are scraping project number #88\n",
      "We are scraping project number #89\n",
      "We are scraping project number #90\n",
      "We are scraping project number #91\n",
      "We are scraping project number #92\n",
      "We are scraping project number #93\n",
      "We are scraping project number #94\n",
      "We are scraping project number #95\n",
      "We are scraping project number #96\n",
      "We are scraping project number #97\n",
      "We are scraping project number #98\n",
      "We are scraping project number #99\n",
      "We are scraping project number #100\n",
      "Printing now------100\n"
     ]
    }
   ],
   "source": [
    "count = 0\n",
    "\n",
    "for project_link in project_links_100:\n",
    "    \n",
    "    count+=1\n",
    "    \n",
    "    print(f\"We are scraping project number #{count}\")\n",
    "\n",
    "    browser.get(project_link)\n",
    "    \n",
    "    time.sleep(2)\n",
    "    \n",
    "    try:\n",
    "        project_client_type = [i.text for i in browser.find_element(By.CLASS_NAME, 'field--name-field-client-type-term-multiref').find_elements(By.CLASS_NAME, 'field__item')]\n",
    "    except:\n",
    "        project_client_type = \"NaN\"\n",
    "    \n",
    "    try:\n",
    "        project_community = [i.text for i in browser.find_element(By.CLASS_NAME, 'field--name-field-community-org-term-ref').find_elements(By.CLASS_NAME, 'field__item')]\n",
    "    except:\n",
    "        project_community = \"NaN\"\n",
    "    \n",
    "    try:\n",
    "        project_priority = [i.text for i in browser.find_element(By.CLASS_NAME, 'field--name-field-priority-area').find_elements(By.CLASS_NAME, 'field__item')]\n",
    "    except:\n",
    "        project_priority = \"NaN\"\n",
    "    \n",
    "    try:\n",
    "        project_details = browser.find_element(By.CLASS_NAME, 'field--name-body').find_element(By.CLASS_NAME, 'field__item').text\n",
    "    except:\n",
    "        project_details =\"NaN\"\n",
    "\n",
    "\n",
    "    # print(project_client_type)\n",
    "    # print(project_community)\n",
    "    # print(project_priority)\n",
    "    # print(project_details)\n",
    "    \n",
    "    project_info_dict['Project Link'].append(project_link)\n",
    "    project_info_dict['Client Type'].append(project_client_type)\n",
    "    project_info_dict['Community Organizations'].append(project_community)\n",
    "    project_info_dict['Priority Area'].append(project_priority)\n",
    "    project_info_dict['Project Details'].append(project_details)\n",
    "    \n",
    "    # download the zip file\n",
    "    browser.find_element(By.CLASS_NAME,'action-links').find_elements(By.TAG_NAME, 'a')[0].click()\n",
    "    \n",
    "    \n",
    "    time.sleep(1)\n",
    "    \n",
    "    \n",
    "    # go to the edit section to scrape amounts\n",
    "    try:\n",
    "        browser.find_elements(By.CLASS_NAME, 'tabs__tab')[1].find_element(By.TAG_NAME, 'a').click()\n",
    "    except:\n",
    "        browser.get(project_link)\n",
    "        time.sleep(2)\n",
    "        browser.find_elements(By.CLASS_NAME, 'tabs__tab')[1].find_element(By.TAG_NAME, 'a').click()\n",
    "    \n",
    "    time.sleep(1)\n",
    "    \n",
    "    # locating value elements\n",
    "    \n",
    "    try:\n",
    "        project_value = browser.find_element(By.ID,'edit-field-value-0-value').get_attribute('value')\n",
    "    except:\n",
    "        project_value = \"NaN\"\n",
    "    try:\n",
    "        contract_amount = browser.find_element(By.ID,'edit-field-contract-amount-0-value').get_attribute('value')\n",
    "    except:\n",
    "        contract_amount = \"NaN\"\n",
    "    try:\n",
    "        grant_amount = browser.find_element(By.ID,'edit-field-grant-amount-0-value').get_attribute('value')\n",
    "    except:\n",
    "        grant_amount = \"NaN\"\n",
    "        \n",
    "        \n",
    "    project_info_dict['Project Value'].append(project_value)\n",
    "    project_info_dict['Contract Amount'].append(contract_amount)\n",
    "    project_info_dict['Grant Amount'].append(grant_amount)\n",
    "    \n",
    "    # print(project_value)\n",
    "    # print(contract_amount)\n",
    "    # print(grant_amount)\n",
    "    \n",
    "    \n",
    "    \n",
    "    if count%50==0:\n",
    "        project_info_df = pd.DataFrame(data=project_info_dict)\n",
    "        project_info_df.to_excel('project_info_test.xlsx', index=False)\n",
    "        print(f'Printing now------{count}')\n",
    "          \n",
    "    time.sleep(2)\n",
    "        "
   ]
  },
  {
   "cell_type": "code",
   "execution_count": 8,
   "id": "f1653edb-cae5-45de-a3ab-bf7509790ea1",
   "metadata": {},
   "outputs": [],
   "source": [
    "project_info_df = pd.DataFrame(data=project_info_dict)\n",
    "project_info_df.to_excel('project_info_test.xlsx', index=False)"
   ]
  },
  {
   "cell_type": "code",
   "execution_count": 9,
   "id": "419c769f-7a3e-45b3-bfdc-15f00cc25a27",
   "metadata": {},
   "outputs": [],
   "source": [
    "time.sleep(3)\n",
    "browser.close()"
   ]
  },
  {
   "cell_type": "code",
   "execution_count": null,
   "id": "0091d17f-7667-44d5-bf4a-323d3a40b84a",
   "metadata": {},
   "outputs": [],
   "source": []
  },
  {
   "cell_type": "code",
   "execution_count": null,
   "id": "9c37530a-e143-4836-8ef5-0a26c117c7ef",
   "metadata": {},
   "outputs": [],
   "source": []
  },
  {
   "cell_type": "code",
   "execution_count": null,
   "id": "cc5a5b60-1999-43d2-a4e2-2ecfd59bf590",
   "metadata": {},
   "outputs": [],
   "source": []
  },
  {
   "cell_type": "code",
   "execution_count": null,
   "id": "b02f7491-a2ee-471a-b97d-6f9b5384cf34",
   "metadata": {},
   "outputs": [],
   "source": []
  },
  {
   "cell_type": "code",
   "execution_count": null,
   "id": "eccf002f-b16e-4a65-b2ef-bf5c351d11a5",
   "metadata": {},
   "outputs": [],
   "source": []
  }
 ],
 "metadata": {
  "kernelspec": {
   "display_name": "Python 3",
   "language": "python",
   "name": "python3"
  },
  "language_info": {
   "codemirror_mode": {
    "name": "ipython",
    "version": 3
   },
   "file_extension": ".py",
   "mimetype": "text/x-python",
   "name": "python",
   "nbconvert_exporter": "python",
   "pygments_lexer": "ipython3",
   "version": "3.12.4"
  }
 },
 "nbformat": 4,
 "nbformat_minor": 5
}

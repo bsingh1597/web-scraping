{
 "cells": [
  {
   "cell_type": "markdown",
   "id": "0",
   "metadata": {},
   "source": [
    "# Installing Libraries"
   ]
  },
  {
   "cell_type": "code",
   "execution_count": null,
   "id": "1",
   "metadata": {},
   "outputs": [],
   "source": [
    "# ! pip3 install selenium\n",
    "# ! pip3 install webdriver_manager"
   ]
  },
  {
   "cell_type": "markdown",
   "id": "2",
   "metadata": {},
   "source": [
    "# Importing Libraries"
   ]
  },
  {
   "cell_type": "code",
   "execution_count": null,
   "id": "3",
   "metadata": {},
   "outputs": [],
   "source": [
    "from selenium import webdriver\n",
    "from selenium.webdriver.common.by import By\n",
    "from webdriver_manager.chrome import ChromeDriverManager\n",
    "from selenium.webdriver.chrome.options import Options\n",
    "import pandas as pd\n",
    "import time\n",
    "import os"
   ]
  },
  {
   "cell_type": "markdown",
   "id": "4",
   "metadata": {},
   "source": [
    "# Scrape"
   ]
  },
  {
   "cell_type": "markdown",
   "id": "5",
   "metadata": {},
   "source": [
    "### Importing the links"
   ]
  },
  {
   "cell_type": "code",
   "execution_count": null,
   "id": "6",
   "metadata": {},
   "outputs": [],
   "source": [
    "project_links_df = pd.read_excel('project_info_FULL_RUN_11122024_2375.xlsx')\n",
    "# project_links_df.count()\n",
    "\n",
    "project_links_df.head()"
   ]
  },
  {
   "cell_type": "markdown",
   "id": "7",
   "metadata": {},
   "source": [
    "### Opening up the landing page"
   ]
  },
  {
   "cell_type": "code",
   "execution_count": null,
   "id": "8",
   "metadata": {},
   "outputs": [],
   "source": [
    "search_url = \"https://data.archwaypartnership.uga.edu/\"\n",
    "\n",
    "browser = webdriver.Chrome()\n",
    "\n",
    "# Open browser to begin search\n",
    "browser.get(search_url)\n",
    "\n",
    "# Maximize the window\n",
    "browser.maximize_window()\n",
    "\n",
    "time.sleep(2)"
   ]
  },
  {
   "cell_type": "markdown",
   "id": "9",
   "metadata": {},
   "source": [
    "### Entering the login credentials"
   ]
  },
  {
   "cell_type": "code",
   "execution_count": null,
   "id": "10",
   "metadata": {},
   "outputs": [],
   "source": [
    "# entering the username\n",
    "input_username = browser.find_element(By.ID,'edit-name')\n",
    "input_username.send_keys(\"bs83243\")\n",
    "\n",
    "time.sleep(1)\n",
    "\n",
    "# entering the password\n",
    "input_password = browser.find_element(By.ID,'edit-pass')\n",
    "input_password.send_keys(\"BS@15july1997\")\n",
    "\n",
    "\n",
    "time.sleep(1)\n",
    "\n",
    "# clicking the login button\n",
    "button_login = browser.find_element(By.ID,'edit-submit')\n",
    "button_login.click()\n",
    "time.sleep(2)"
   ]
  },
  {
   "cell_type": "code",
   "execution_count": null,
   "id": "11",
   "metadata": {},
   "outputs": [],
   "source": [
    "# # Cancelled Projects\n",
    "\n",
    "# cancelled_projects_df = project_links_df.query('`Project Status` == \"Cancelled\" and `Deliverables Exist` == True')\n",
    "# # cancelled_projects_df.count()\n",
    "# project_links = cancelled_projects_df[\"Project Link\"]\n",
    "# failed_downloads = pd.DataFrame(columns=['Project Link', 'Project Link Code', 'Downloaded'])\n",
    "\n",
    "# project_links.count() 40"
   ]
  },
  {
   "cell_type": "code",
   "execution_count": null,
   "id": "12",
   "metadata": {},
   "outputs": [],
   "source": [
    "# Completed Projects\n",
    "\n",
    "completed_projects_df = project_links_df.query('`Project Status` == \"Completed\" and `Deliverables Exist` == True')\n",
    "project_links = completed_projects_df[\"Project Link\"]\n",
    "# project_links.count() 1292\n",
    "project_links = project_links[100:200]\n",
    "\n",
    "failed_downloads = pd.DataFrame(columns=['Project Link', 'Project Link Code', 'Downloaded'])"
   ]
  },
  {
   "cell_type": "code",
   "execution_count": null,
   "id": "13",
   "metadata": {},
   "outputs": [],
   "source": [
    "count = 0\n",
    "\n",
    "for project_link in project_links:\n",
    "    count+=1\n",
    "    \n",
    "    print(f\"We are scraping project number #{count}\")\n",
    "    try:\n",
    "        browser.get(project_link)\n",
    "    \n",
    "        time.sleep(3)\n",
    "        \n",
    "        # Click the download link\n",
    "        download_link = browser.find_element(By.XPATH, '//a[contains(@href, \"deliverable-download\")]')\n",
    "        download_link.click()\n",
    "        \n",
    "    except Exception as _:\n",
    "\n",
    "        time.sleep(3)"
   ]
  },
  {
   "cell_type": "code",
   "execution_count": null,
   "id": "14",
   "metadata": {},
   "outputs": [],
   "source": [
    "#### Check for the failed Downloads\n",
    "\n",
    "for project_link in project_links:\n",
    "    project_link_code = project_link.split('/')[-1]\n",
    "    path = r'C:\\Users\\bs83243\\Downloads\\Completed-Nov13'  \n",
    "    if not os.path.isfile(os.path.join(path, f'{project_link_code}-deliverables.zip')): \n",
    "        new_row = pd.DataFrame({'Project Link': [project_link], 'Project Link Code': project_link_code})\n",
    "        print(f\"Failed to download Project with code: {project_link_code}\")\n",
    "        failed_downloads = pd.concat([failed_downloads, new_row], ignore_index=True)"
   ]
  },
  {
   "cell_type": "code",
   "execution_count": null,
   "id": "15",
   "metadata": {},
   "outputs": [],
   "source": [
    "failed_downloads.head()"
   ]
  },
  {
   "cell_type": "code",
   "execution_count": null,
   "id": "16",
   "metadata": {},
   "outputs": [],
   "source": [
    "def append_df_to_csv(filename, df):\n",
    "    # Check if the file exists\n",
    "    try:\n",
    "        with open(filename, 'r') as f:\n",
    "            # File exists, append without header\n",
    "            df.to_csv(filename, mode='a', header=False, index=False)\n",
    "    except FileNotFoundError:\n",
    "        # File does not exist, write with header\n",
    "        df.to_csv(filename, mode='w', header=True, index=False)"
   ]
  },
  {
   "cell_type": "code",
   "execution_count": null,
   "id": "17",
   "metadata": {},
   "outputs": [],
   "source": [
    "faild_csv_file = 'failed_downloads.csv'\n",
    "append_df_to_csv(faild_csv_file, failed_downloads)"
   ]
  },
  {
   "cell_type": "code",
   "execution_count": null,
   "id": "18",
   "metadata": {},
   "outputs": [],
   "source": [
    "time.sleep(3)\n",
    "browser.close()\n",
    "browser.quit()"
   ]
  }
 ],
 "metadata": {
  "kernelspec": {
   "display_name": "Python 3",
   "language": "python",
   "name": "python3"
  },
  "language_info": {
   "codemirror_mode": {
    "name": "ipython",
    "version": 3
   },
   "file_extension": ".py",
   "mimetype": "text/x-python",
   "name": "python",
   "nbconvert_exporter": "python",
   "pygments_lexer": "ipython3",
   "version": "3.12.4"
  }
 },
 "nbformat": 4,
 "nbformat_minor": 5
}

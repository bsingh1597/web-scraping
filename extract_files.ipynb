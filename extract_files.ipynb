{
 "cells": [
  {
   "cell_type": "code",
   "execution_count": null,
   "metadata": {},
   "outputs": [],
   "source": [
    "import pandas as pd\n",
    "import os\n",
    "import zipfile"
   ]
  },
  {
   "cell_type": "code",
   "execution_count": null,
   "metadata": {},
   "outputs": [],
   "source": [
    "def extract_zip(zip_path, extract_to):\n",
    "    with zipfile.ZipFile(zip_path, 'r') as zip_ref:\n",
    "        zip_ref.extractall(extract_to)"
   ]
  },
  {
   "cell_type": "code",
   "execution_count": null,
   "metadata": {},
   "outputs": [],
   "source": [
    "def extract_all_zips_in_directory(directory, extract_path):\n",
    "    for root, dirs, files in os.walk(directory):\n",
    "        for file in files:\n",
    "            if '-deliverables' in file and file.endswith('.zip'):\n",
    "                zip_path = os.path.join(root, file)\n",
    "                extract_to = os.path.join(extract_path, os.path.splitext(file)[0])\n",
    "                # extract_to = os.path.splitext(zip_path)[0]\n",
    "                print(f'Extracting {zip_path} to {extract_to}')\n",
    "                extract_zip(zip_path, extract_to)"
   ]
  },
  {
   "cell_type": "code",
   "execution_count": null,
   "metadata": {},
   "outputs": [],
   "source": [
    "# Path to the main zip file\n",
    "zip_folder = '/Users/bs83243/Downloads/Test-Deliverables'\n",
    "extract_to = '/Users/bs83243/Downloads/Test-Deliverables-Extracted'\n",
    "\n",
    "# Extract all zip files within the extracted directory\n",
    "extract_all_zips_in_directory(zip_folder, extract_to)\n"
   ]
  }
 ],
 "metadata": {
  "kernelspec": {
   "display_name": "Python 3",
   "language": "python",
   "name": "python3"
  },
  "language_info": {
   "codemirror_mode": {
    "name": "ipython",
    "version": 3
   },
   "file_extension": ".py",
   "mimetype": "text/x-python",
   "name": "python",
   "nbconvert_exporter": "python",
   "pygments_lexer": "ipython3",
   "version": "3.12.4"
  }
 },
 "nbformat": 4,
 "nbformat_minor": 2
}

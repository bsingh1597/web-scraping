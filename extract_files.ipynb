{
 "cells": [
  {
   "cell_type": "code",
   "execution_count": 1,
   "metadata": {},
   "outputs": [],
   "source": [
    "import pandas as pd\n",
    "import os\n",
    "import zipfile"
   ]
  },
  {
   "cell_type": "code",
   "execution_count": 2,
   "metadata": {},
   "outputs": [],
   "source": [
    "def extract_zip(zip_path, extract_to):\n",
    "    with zipfile.ZipFile(zip_path, 'r') as zip_ref:\n",
    "        zip_ref.extractall(extract_to)"
   ]
  },
  {
   "cell_type": "code",
   "execution_count": 3,
   "metadata": {},
   "outputs": [],
   "source": [
    "def extract_all_zips_in_directory(directory, extract_path):\n",
    "    for root, dirs, files in os.walk(directory):\n",
    "        for file in files:\n",
    "            if '-deliverables' in file and file.endswith('.zip'):\n",
    "                zip_path = os.path.join(root, file)\n",
    "                extract_to = os.path.join(extract_path, os.path.splitext(file)[0])\n",
    "                # extract_to = os.path.splitext(zip_path)[0]\n",
    "                print(f'Extracting {zip_path} to {extract_to}')\n",
    "                extract_zip(zip_path, extract_to)"
   ]
  },
  {
   "cell_type": "code",
   "execution_count": 4,
   "metadata": {},
   "outputs": [
    {
     "name": "stdout",
     "output_type": "stream",
     "text": [
      "Extracting /Users/bs83243/Downloads/Test-Deliverables\\11750-deliverables.zip to /Users/bs83243/Downloads/Test-Deliverables-Extracted\\11750-deliverables\n",
      "Extracting /Users/bs83243/Downloads/Test-Deliverables\\11950-deliverables.zip to /Users/bs83243/Downloads/Test-Deliverables-Extracted\\11950-deliverables\n",
      "Extracting /Users/bs83243/Downloads/Test-Deliverables\\11953-deliverables.zip to /Users/bs83243/Downloads/Test-Deliverables-Extracted\\11953-deliverables\n",
      "Extracting /Users/bs83243/Downloads/Test-Deliverables\\12113-deliverables.zip to /Users/bs83243/Downloads/Test-Deliverables-Extracted\\12113-deliverables\n",
      "Extracting /Users/bs83243/Downloads/Test-Deliverables\\12412-deliverables.zip to /Users/bs83243/Downloads/Test-Deliverables-Extracted\\12412-deliverables\n",
      "Extracting /Users/bs83243/Downloads/Test-Deliverables\\12461-deliverables.zip to /Users/bs83243/Downloads/Test-Deliverables-Extracted\\12461-deliverables\n",
      "Extracting /Users/bs83243/Downloads/Test-Deliverables\\12729-deliverables.zip to /Users/bs83243/Downloads/Test-Deliverables-Extracted\\12729-deliverables\n",
      "Extracting /Users/bs83243/Downloads/Test-Deliverables\\2514-deliverables.zip to /Users/bs83243/Downloads/Test-Deliverables-Extracted\\2514-deliverables\n",
      "Extracting /Users/bs83243/Downloads/Test-Deliverables\\2529-deliverables.zip to /Users/bs83243/Downloads/Test-Deliverables-Extracted\\2529-deliverables\n",
      "Extracting /Users/bs83243/Downloads/Test-Deliverables\\2686-deliverables.zip to /Users/bs83243/Downloads/Test-Deliverables-Extracted\\2686-deliverables\n",
      "Extracting /Users/bs83243/Downloads/Test-Deliverables\\2795-deliverables.zip to /Users/bs83243/Downloads/Test-Deliverables-Extracted\\2795-deliverables\n",
      "Extracting /Users/bs83243/Downloads/Test-Deliverables\\2855-deliverables.zip to /Users/bs83243/Downloads/Test-Deliverables-Extracted\\2855-deliverables\n",
      "Extracting /Users/bs83243/Downloads/Test-Deliverables\\2860-deliverables.zip to /Users/bs83243/Downloads/Test-Deliverables-Extracted\\2860-deliverables\n",
      "Extracting /Users/bs83243/Downloads/Test-Deliverables\\2930-deliverables.zip to /Users/bs83243/Downloads/Test-Deliverables-Extracted\\2930-deliverables\n",
      "Extracting /Users/bs83243/Downloads/Test-Deliverables\\2981-deliverables.zip to /Users/bs83243/Downloads/Test-Deliverables-Extracted\\2981-deliverables\n",
      "Extracting /Users/bs83243/Downloads/Test-Deliverables\\3032-deliverables.zip to /Users/bs83243/Downloads/Test-Deliverables-Extracted\\3032-deliverables\n",
      "Extracting /Users/bs83243/Downloads/Test-Deliverables\\3048-deliverables.zip to /Users/bs83243/Downloads/Test-Deliverables-Extracted\\3048-deliverables\n",
      "Extracting /Users/bs83243/Downloads/Test-Deliverables\\3049-deliverables.zip to /Users/bs83243/Downloads/Test-Deliverables-Extracted\\3049-deliverables\n",
      "Extracting /Users/bs83243/Downloads/Test-Deliverables\\3063-deliverables.zip to /Users/bs83243/Downloads/Test-Deliverables-Extracted\\3063-deliverables\n",
      "Extracting /Users/bs83243/Downloads/Test-Deliverables\\3114-deliverables.zip to /Users/bs83243/Downloads/Test-Deliverables-Extracted\\3114-deliverables\n",
      "Extracting /Users/bs83243/Downloads/Test-Deliverables\\3154-deliverables.zip to /Users/bs83243/Downloads/Test-Deliverables-Extracted\\3154-deliverables\n",
      "Extracting /Users/bs83243/Downloads/Test-Deliverables\\3237-deliverables.zip to /Users/bs83243/Downloads/Test-Deliverables-Extracted\\3237-deliverables\n",
      "Extracting /Users/bs83243/Downloads/Test-Deliverables\\3365-deliverables.zip to /Users/bs83243/Downloads/Test-Deliverables-Extracted\\3365-deliverables\n",
      "Extracting /Users/bs83243/Downloads/Test-Deliverables\\3425-deliverables.zip to /Users/bs83243/Downloads/Test-Deliverables-Extracted\\3425-deliverables\n",
      "Extracting /Users/bs83243/Downloads/Test-Deliverables\\3461-deliverables.zip to /Users/bs83243/Downloads/Test-Deliverables-Extracted\\3461-deliverables\n",
      "Extracting /Users/bs83243/Downloads/Test-Deliverables\\3523-deliverables.zip to /Users/bs83243/Downloads/Test-Deliverables-Extracted\\3523-deliverables\n",
      "Extracting /Users/bs83243/Downloads/Test-Deliverables\\3575-deliverables.zip to /Users/bs83243/Downloads/Test-Deliverables-Extracted\\3575-deliverables\n",
      "Extracting /Users/bs83243/Downloads/Test-Deliverables\\3639-deliverables.zip to /Users/bs83243/Downloads/Test-Deliverables-Extracted\\3639-deliverables\n",
      "Extracting /Users/bs83243/Downloads/Test-Deliverables\\3654-deliverables.zip to /Users/bs83243/Downloads/Test-Deliverables-Extracted\\3654-deliverables\n",
      "Extracting /Users/bs83243/Downloads/Test-Deliverables\\3661-deliverables.zip to /Users/bs83243/Downloads/Test-Deliverables-Extracted\\3661-deliverables\n",
      "Extracting /Users/bs83243/Downloads/Test-Deliverables\\3671-deliverables.zip to /Users/bs83243/Downloads/Test-Deliverables-Extracted\\3671-deliverables\n",
      "Extracting /Users/bs83243/Downloads/Test-Deliverables\\3674-deliverables.zip to /Users/bs83243/Downloads/Test-Deliverables-Extracted\\3674-deliverables\n",
      "Extracting /Users/bs83243/Downloads/Test-Deliverables\\3678-deliverables.zip to /Users/bs83243/Downloads/Test-Deliverables-Extracted\\3678-deliverables\n",
      "Extracting /Users/bs83243/Downloads/Test-Deliverables\\3700-deliverables.zip to /Users/bs83243/Downloads/Test-Deliverables-Extracted\\3700-deliverables\n",
      "Extracting /Users/bs83243/Downloads/Test-Deliverables\\3705-deliverables.zip to /Users/bs83243/Downloads/Test-Deliverables-Extracted\\3705-deliverables\n",
      "Extracting /Users/bs83243/Downloads/Test-Deliverables\\3707-deliverables.zip to /Users/bs83243/Downloads/Test-Deliverables-Extracted\\3707-deliverables\n",
      "Extracting /Users/bs83243/Downloads/Test-Deliverables\\3747-deliverables.zip to /Users/bs83243/Downloads/Test-Deliverables-Extracted\\3747-deliverables\n",
      "Extracting /Users/bs83243/Downloads/Test-Deliverables\\3763-deliverables.zip to /Users/bs83243/Downloads/Test-Deliverables-Extracted\\3763-deliverables\n",
      "Extracting /Users/bs83243/Downloads/Test-Deliverables\\3858-deliverables.zip to /Users/bs83243/Downloads/Test-Deliverables-Extracted\\3858-deliverables\n",
      "Extracting /Users/bs83243/Downloads/Test-Deliverables\\3869-deliverables.zip to /Users/bs83243/Downloads/Test-Deliverables-Extracted\\3869-deliverables\n",
      "Extracting /Users/bs83243/Downloads/Test-Deliverables\\3906-deliverables.zip to /Users/bs83243/Downloads/Test-Deliverables-Extracted\\3906-deliverables\n",
      "Extracting /Users/bs83243/Downloads/Test-Deliverables\\4439-deliverables.zip to /Users/bs83243/Downloads/Test-Deliverables-Extracted\\4439-deliverables\n",
      "Extracting /Users/bs83243/Downloads/Test-Deliverables\\4442-deliverables.zip to /Users/bs83243/Downloads/Test-Deliverables-Extracted\\4442-deliverables\n",
      "Extracting /Users/bs83243/Downloads/Test-Deliverables\\4455-deliverables.zip to /Users/bs83243/Downloads/Test-Deliverables-Extracted\\4455-deliverables\n",
      "Extracting /Users/bs83243/Downloads/Test-Deliverables\\4495-deliverables.zip to /Users/bs83243/Downloads/Test-Deliverables-Extracted\\4495-deliverables\n",
      "Extracting /Users/bs83243/Downloads/Test-Deliverables\\4599-deliverables.zip to /Users/bs83243/Downloads/Test-Deliverables-Extracted\\4599-deliverables\n",
      "Extracting /Users/bs83243/Downloads/Test-Deliverables\\4712-deliverables.zip to /Users/bs83243/Downloads/Test-Deliverables-Extracted\\4712-deliverables\n",
      "Extracting /Users/bs83243/Downloads/Test-Deliverables\\4791-deliverables.zip to /Users/bs83243/Downloads/Test-Deliverables-Extracted\\4791-deliverables\n",
      "Extracting /Users/bs83243/Downloads/Test-Deliverables\\4792-deliverables.zip to /Users/bs83243/Downloads/Test-Deliverables-Extracted\\4792-deliverables\n",
      "Extracting /Users/bs83243/Downloads/Test-Deliverables\\4813-deliverables.zip to /Users/bs83243/Downloads/Test-Deliverables-Extracted\\4813-deliverables\n",
      "Extracting /Users/bs83243/Downloads/Test-Deliverables\\4857-deliverables.zip to /Users/bs83243/Downloads/Test-Deliverables-Extracted\\4857-deliverables\n",
      "Extracting /Users/bs83243/Downloads/Test-Deliverables\\4860-deliverables.zip to /Users/bs83243/Downloads/Test-Deliverables-Extracted\\4860-deliverables\n",
      "Extracting /Users/bs83243/Downloads/Test-Deliverables\\4872-deliverables.zip to /Users/bs83243/Downloads/Test-Deliverables-Extracted\\4872-deliverables\n",
      "Extracting /Users/bs83243/Downloads/Test-Deliverables\\4896-deliverables.zip to /Users/bs83243/Downloads/Test-Deliverables-Extracted\\4896-deliverables\n"
     ]
    }
   ],
   "source": [
    "# Path to the main zip file\n",
    "zip_folder = '/Users/bs83243/Downloads/Test-Deliverables'\n",
    "extract_to = '/Users/bs83243/Downloads/Test-Deliverables-Extracted'\n",
    "\n",
    "# Extract all zip files within the extracted directory\n",
    "extract_all_zips_in_directory(zip_folder, extract_to)\n"
   ]
  }
 ],
 "metadata": {
  "kernelspec": {
   "display_name": "Python 3",
   "language": "python",
   "name": "python3"
  },
  "language_info": {
   "codemirror_mode": {
    "name": "ipython",
    "version": 3
   },
   "file_extension": ".py",
   "mimetype": "text/x-python",
   "name": "python",
   "nbconvert_exporter": "python",
   "pygments_lexer": "ipython3",
   "version": "3.12.4"
  }
 },
 "nbformat": 4,
 "nbformat_minor": 2
}
